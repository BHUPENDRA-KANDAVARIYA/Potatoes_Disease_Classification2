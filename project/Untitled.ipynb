{
 "cells": [
  {
   "cell_type": "code",
   "execution_count": 2,
   "id": "b8f31fe0",
   "metadata": {},
   "outputs": [],
   "source": [
    "import tensorflow as tf\n",
    "from tensorflow.keras import models, layers\n",
    "import matplotlib.pyplot as plt\n",
    "\n",
    "from IPython.display import HTML\n",
    "from tensorflow.keras.preprocessing.image import ImageDataGenerator"
   ]
  },
  {
   "cell_type": "code",
   "execution_count": 17,
   "id": "c4e2030c",
   "metadata": {},
   "outputs": [
    {
     "name": "stdout",
     "output_type": "stream",
     "text": [
      "Found 1506 images belonging to 3 classes.\n"
     ]
    }
   ],
   "source": [
    "BATCH_SIZE = 32\n",
    "IMAGE_SIZE = 256\n",
    "CHANNELS=3\n",
    "EPOCHS=50\n",
    "train_datagen = ImageDataGenerator(\n",
    "    rescale = 1./255,\n",
    "    horizontal_flip = True,\n",
    "    rotation_range = 10\n",
    ")\n",
    "\n",
    "train_generator = train_datagen.flow_from_directory(\n",
    "    'dataset/train',\n",
    "    target_size = (IMAGE_SIZE,IMAGE_SIZE),\n",
    "    batch_size = 32,\n",
    "    class_mode = 'sparse'   \n",
    ")"
   ]
  },
  {
   "cell_type": "markdown",
   "id": "ef75b768",
   "metadata": {},
   "source": [
    "save_to_dir = \"AugmentedImages\" "
   ]
  },
  {
   "cell_type": "code",
   "execution_count": 18,
   "id": "2116e6c7",
   "metadata": {},
   "outputs": [
    {
     "name": "stdout",
     "output_type": "stream",
     "text": [
      "Found 215 images belonging to 3 classes.\n"
     ]
    }
   ],
   "source": [
    "validation_datagen = ImageDataGenerator(\n",
    "    rescale = 1./255,\n",
    "    horizontal_flip = True,\n",
    "    rotation_range = 10\n",
    ")\n",
    "\n",
    "validation_generator = validation_datagen.flow_from_directory(\n",
    "    'dataset/val',\n",
    "    target_size = (IMAGE_SIZE,IMAGE_SIZE),\n",
    "    batch_size = 32,\n",
    "    class_mode = 'sparse'   \n",
    ")"
   ]
  },
  {
   "cell_type": "code",
   "execution_count": 19,
   "id": "642e117b",
   "metadata": {},
   "outputs": [
    {
     "name": "stdout",
     "output_type": "stream",
     "text": [
      "Found 431 images belonging to 3 classes.\n"
     ]
    }
   ],
   "source": [
    "test_datagen = ImageDataGenerator(\n",
    "    rescale = 1./255,\n",
    "    horizontal_flip = True,\n",
    "    rotation_range = 10\n",
    ")\n",
    "\n",
    "test_generator = test_datagen.flow_from_directory(\n",
    "    'dataset/test',\n",
    "    target_size = (IMAGE_SIZE,IMAGE_SIZE),\n",
    "    batch_size = 32,\n",
    "    class_mode = 'sparse'   \n",
    ")"
   ]
  },
  {
   "cell_type": "code",
   "execution_count": 20,
   "id": "d78c4bae",
   "metadata": {},
   "outputs": [],
   "source": [
    "input_shape = (IMAGE_SIZE, IMAGE_SIZE, CHANNELS)\n",
    "n_classes = 3\n",
    "\n",
    "model = models.Sequential([\n",
    "    layers.InputLayer(input_shape = input_shape),\n",
    "    layers.Conv2D(32, kernel_size = (3,3), activation='relu'),\n",
    "    layers.MaxPooling2D((2, 2)),\n",
    "    layers.Conv2D(64,  kernel_size = (3,3), activation='relu'),\n",
    "    layers.MaxPooling2D((2, 2)),\n",
    "    layers.Conv2D(64,  kernel_size = (3,3), activation='relu'),\n",
    "    layers.MaxPooling2D((2, 2)),\n",
    "    layers.Conv2D(64, (3, 3), activation='relu'),\n",
    "    layers.MaxPooling2D((2, 2)),\n",
    "    layers.Conv2D(64, (3, 3), activation='relu'),\n",
    "    layers.MaxPooling2D((2, 2)),\n",
    "    layers.Conv2D(64, (3, 3), activation='relu'),\n",
    "    layers.MaxPooling2D((2, 2)),\n",
    "    layers.Flatten(),\n",
    "    layers.Dense(64, activation='relu'),\n",
    "    layers.Dense(n_classes, activation='softmax'),\n",
    "])\n",
    "\n",
    "model.build(input_shape=input_shape)"
   ]
  },
  {
   "cell_type": "code",
   "execution_count": 21,
   "id": "39d2089d",
   "metadata": {},
   "outputs": [
    {
     "name": "stdout",
     "output_type": "stream",
     "text": [
      "Model: \"sequential_3\"\n",
      "_________________________________________________________________\n",
      " Layer (type)                Output Shape              Param #   \n",
      "=================================================================\n",
      " conv2d_18 (Conv2D)          (None, 254, 254, 32)      896       \n",
      "                                                                 \n",
      " max_pooling2d_18 (MaxPoolin  (None, 127, 127, 32)     0         \n",
      " g2D)                                                            \n",
      "                                                                 \n",
      " conv2d_19 (Conv2D)          (None, 125, 125, 64)      18496     \n",
      "                                                                 \n",
      " max_pooling2d_19 (MaxPoolin  (None, 62, 62, 64)       0         \n",
      " g2D)                                                            \n",
      "                                                                 \n",
      " conv2d_20 (Conv2D)          (None, 60, 60, 64)        36928     \n",
      "                                                                 \n",
      " max_pooling2d_20 (MaxPoolin  (None, 30, 30, 64)       0         \n",
      " g2D)                                                            \n",
      "                                                                 \n",
      " conv2d_21 (Conv2D)          (None, 28, 28, 64)        36928     \n",
      "                                                                 \n",
      " max_pooling2d_21 (MaxPoolin  (None, 14, 14, 64)       0         \n",
      " g2D)                                                            \n",
      "                                                                 \n",
      " conv2d_22 (Conv2D)          (None, 12, 12, 64)        36928     \n",
      "                                                                 \n",
      " max_pooling2d_22 (MaxPoolin  (None, 6, 6, 64)         0         \n",
      " g2D)                                                            \n",
      "                                                                 \n",
      " conv2d_23 (Conv2D)          (None, 4, 4, 64)          36928     \n",
      "                                                                 \n",
      " max_pooling2d_23 (MaxPoolin  (None, 2, 2, 64)         0         \n",
      " g2D)                                                            \n",
      "                                                                 \n",
      " flatten_3 (Flatten)         (None, 256)               0         \n",
      "                                                                 \n",
      " dense_6 (Dense)             (None, 64)                16448     \n",
      "                                                                 \n",
      " dense_7 (Dense)             (None, 3)                 195       \n",
      "                                                                 \n",
      "=================================================================\n",
      "Total params: 183,747\n",
      "Trainable params: 183,747\n",
      "Non-trainable params: 0\n",
      "_________________________________________________________________\n"
     ]
    }
   ],
   "source": [
    "model.summary()"
   ]
  },
  {
   "cell_type": "code",
   "execution_count": 22,
   "id": "05e3e7c4",
   "metadata": {},
   "outputs": [],
   "source": [
    "model.compile(\n",
    "    optimizer='adam',\n",
    "    loss=tf.keras.losses.SparseCategoricalCrossentropy(from_logits=False),\n",
    "    metrics=['accuracy']\n",
    ")"
   ]
  },
  {
   "cell_type": "code",
   "execution_count": 23,
   "id": "4a45f912",
   "metadata": {},
   "outputs": [
    {
     "name": "stdout",
     "output_type": "stream",
     "text": [
      "Epoch 1/20\n",
      "47/47 [==============================] - 123s 3s/step - loss: 0.9243 - accuracy: 0.4851 - val_loss: 0.9437 - val_accuracy: 0.4583\n",
      "Epoch 2/20\n",
      "47/47 [==============================] - 98s 2s/step - loss: 0.8010 - accuracy: 0.6153 - val_loss: 0.6784 - val_accuracy: 0.6667\n",
      "Epoch 3/20\n",
      "47/47 [==============================] - 91s 2s/step - loss: 0.5630 - accuracy: 0.7449 - val_loss: 0.4720 - val_accuracy: 0.7917\n",
      "Epoch 4/20\n",
      "47/47 [==============================] - 70s 1s/step - loss: 0.3936 - accuracy: 0.8385 - val_loss: 0.8653 - val_accuracy: 0.5990\n",
      "Epoch 5/20\n",
      "47/47 [==============================] - 59s 1s/step - loss: 0.3849 - accuracy: 0.8467 - val_loss: 0.2108 - val_accuracy: 0.9219\n",
      "Epoch 6/20\n",
      "47/47 [==============================] - 59s 1s/step - loss: 0.2421 - accuracy: 0.9043 - val_loss: 0.3154 - val_accuracy: 0.8646\n",
      "Epoch 7/20\n",
      "47/47 [==============================] - 59s 1s/step - loss: 0.2978 - accuracy: 0.8894 - val_loss: 0.2165 - val_accuracy: 0.8906\n",
      "Epoch 8/20\n",
      "47/47 [==============================] - 61s 1s/step - loss: 0.1596 - accuracy: 0.9376 - val_loss: 0.1360 - val_accuracy: 0.9323\n",
      "Epoch 9/20\n",
      "47/47 [==============================] - 59s 1s/step - loss: 0.1881 - accuracy: 0.9288 - val_loss: 0.3860 - val_accuracy: 0.8438\n",
      "Epoch 10/20\n",
      "47/47 [==============================] - 61s 1s/step - loss: 0.1401 - accuracy: 0.9461 - val_loss: 0.1220 - val_accuracy: 0.9427\n",
      "Epoch 11/20\n",
      "47/47 [==============================] - 59s 1s/step - loss: 0.1055 - accuracy: 0.9607 - val_loss: 0.1326 - val_accuracy: 0.9271\n",
      "Epoch 12/20\n",
      "47/47 [==============================] - 60s 1s/step - loss: 0.0859 - accuracy: 0.9701 - val_loss: 0.1567 - val_accuracy: 0.9479\n",
      "Epoch 13/20\n",
      "47/47 [==============================] - 60s 1s/step - loss: 0.0935 - accuracy: 0.9674 - val_loss: 0.1858 - val_accuracy: 0.9375\n",
      "Epoch 14/20\n",
      "47/47 [==============================] - 60s 1s/step - loss: 0.1016 - accuracy: 0.9620 - val_loss: 0.0661 - val_accuracy: 0.9740\n",
      "Epoch 15/20\n",
      "47/47 [==============================] - 59s 1s/step - loss: 0.1431 - accuracy: 0.9512 - val_loss: 0.4611 - val_accuracy: 0.8125\n",
      "Epoch 16/20\n",
      "47/47 [==============================] - 60s 1s/step - loss: 0.2530 - accuracy: 0.9009 - val_loss: 0.1904 - val_accuracy: 0.9219\n",
      "Epoch 17/20\n",
      "47/47 [==============================] - 59s 1s/step - loss: 0.0714 - accuracy: 0.9742 - val_loss: 0.1025 - val_accuracy: 0.9635\n",
      "Epoch 18/20\n",
      "47/47 [==============================] - 60s 1s/step - loss: 0.1656 - accuracy: 0.9369 - val_loss: 0.1671 - val_accuracy: 0.9219\n",
      "Epoch 19/20\n",
      "47/47 [==============================] - 59s 1s/step - loss: 0.1575 - accuracy: 0.9389 - val_loss: 0.0987 - val_accuracy: 0.9583\n",
      "Epoch 20/20\n",
      "47/47 [==============================] - 59s 1s/step - loss: 0.0582 - accuracy: 0.9783 - val_loss: 0.1442 - val_accuracy: 0.9479\n"
     ]
    }
   ],
   "source": [
    "history = model.fit(\n",
    "    train_generator,\n",
    "    steps_per_epoch = 47,\n",
    "    batch_size = 32,\n",
    "    validation_data = validation_generator,\n",
    "    validation_steps = 6,\n",
    "    verbose = 1,\n",
    "    epochs = 20\n",
    ")"
   ]
  },
  {
   "cell_type": "code",
   "execution_count": 24,
   "id": "f966c885",
   "metadata": {},
   "outputs": [
    {
     "name": "stdout",
     "output_type": "stream",
     "text": [
      "14/14 [==============================] - 11s 767ms/step - loss: 0.1497 - accuracy: 0.9606\n"
     ]
    }
   ],
   "source": [
    "scores = model.evaluate(test_generator)"
   ]
  },
  {
   "cell_type": "code",
   "execution_count": 25,
   "id": "06251a7f",
   "metadata": {},
   "outputs": [],
   "source": [
    "model.save(\"potatoes.h5\")"
   ]
  },
  {
   "cell_type": "code",
   "execution_count": null,
   "id": "08aab20e",
   "metadata": {},
   "outputs": [],
   "source": []
  }
 ],
 "metadata": {
  "kernelspec": {
   "display_name": "Python 3 (ipykernel)",
   "language": "python",
   "name": "python3"
  },
  "language_info": {
   "codemirror_mode": {
    "name": "ipython",
    "version": 3
   },
   "file_extension": ".py",
   "mimetype": "text/x-python",
   "name": "python",
   "nbconvert_exporter": "python",
   "pygments_lexer": "ipython3",
   "version": "3.10.9"
  }
 },
 "nbformat": 4,
 "nbformat_minor": 5
}
